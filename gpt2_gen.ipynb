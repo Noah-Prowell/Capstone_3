{
 "cells": [
  {
   "cell_type": "code",
   "execution_count": 1,
   "metadata": {},
   "outputs": [
    {
     "name": "stdout",
     "output_type": "stream",
     "text": [
      "WARNING:tensorflow:\n",
      "The TensorFlow contrib module will not be included in TensorFlow 2.0.\n",
      "For more information, please see:\n",
      "  * https://github.com/tensorflow/community/blob/master/rfcs/20180907-contrib-sunset.md\n",
      "  * https://github.com/tensorflow/addons\n",
      "  * https://github.com/tensorflow/io (for I/O related ops)\n",
      "If you depend on functionality not listed there, please file an issue.\n",
      "\n"
     ]
    }
   ],
   "source": [
    "import gpt_2_simple as gpt2"
   ]
  },
  {
   "cell_type": "code",
   "execution_count": 2,
   "metadata": {},
   "outputs": [
    {
     "name": "stdout",
     "output_type": "stream",
     "text": [
      "Loading checkpoint checkpoint/cartman1/model-1000\n",
      "INFO:tensorflow:Restoring parameters from checkpoint/cartman1/model-1000\n"
     ]
    }
   ],
   "source": [
    "sess = gpt2.start_tf_sess()\n",
    "gpt2.load_gpt2(sess, run_name='cartman1')"
   ]
  },
  {
   "cell_type": "code",
   "execution_count": 2,
   "metadata": {},
   "outputs": [
    {
     "name": "stdout",
     "output_type": "stream",
     "text": [
      "Loading checkpoint checkpoint/stan1/model-1000\n",
      "INFO:tensorflow:Restoring parameters from checkpoint/stan1/model-1000\n"
     ]
    }
   ],
   "source": [
    "sess = gpt2.start_tf_sess()\n",
    "gpt2.load_gpt2(sess, run_name='stan1')"
   ]
  },
  {
   "cell_type": "code",
   "execution_count": 2,
   "metadata": {},
   "outputs": [
    {
     "name": "stdout",
     "output_type": "stream",
     "text": [
      "Loading checkpoint checkpoint/kyle1/model-1000\n",
      "INFO:tensorflow:Restoring parameters from checkpoint/kyle1/model-1000\n"
     ]
    }
   ],
   "source": [
    "sess = gpt2.start_tf_sess()\n",
    "gpt2.load_gpt2(sess, run_name='kyle1')"
   ]
  },
  {
   "cell_type": "code",
   "execution_count": 3,
   "metadata": {},
   "outputs": [
    {
     "name": "stdout",
     "output_type": "stream",
     "text": [
<<<<<<< HEAD
      "I'm just a little boy, Butters. I know how to make cakes and cookies.\n",
      "You're gonna be rich.\n",
      "What?\n",
      "We're not gonna play anymore, Butters. We've got other things on our minds.\n",
      "Hmmm.\n",
      "What?\n",
      "What?\n",
      "You money?\n",
      "...No.\n",
      "It's not money, Butters. I know how to make cakes and cookies.\n",
      "It's not money, Butters. I know how to make cakes and cookies.\n",
      "I made them last night.\n",
      "You guys!\n",
      "Oh God! I'm so bored!\n",
      "I just got home.  I just got home. IIe...  I just got to the hospital, and got infected with the like, kind of nefarious mind-control virus.\n",
      "Yeah. I just kind of lost the fight against the evil empire.\n",
      "My mom just died, and I was just like the other kids. I was in the hospital all day, and I just don't feel like it.\n",
      "You guys, it's just killing me.\n",
      "Hand in hand, you know. Just make me stop.\n",
      "Sir, you're being a fag, and I need to know how to fight back.\n",
      "What?\n",
      "Hello. Wacky wanting to join the XBox crew.\n",
      "Yes. I've seen your film, and I like the humor.\n",
      "But I also know that, by making fun of people with disabilities, I could get people who wanted to join the faction but didn't know it was a bad idea.\n",
      "Wacky Faggot!\n",
      "Would you tell him, Butters? He's a wacky fagot!\n",
      "What?\n",
      "Why tell him, Butters? He's a wacky fagot.\n",
      "What?\n",
      "...No.\n",
      "I don't want candy. Crunchy stuff with nuts and Oreos.\n",
      "Uh, it's okay. I'm fat. I'm fat like a chicken.\n",
      "Wacky Fagot.\n",
      "Oh, please. Companion.\n",
      "Hello, Faggot.\n",
      "I was just wondering, Butters, if you can make Butters eat his candy.\n",
      "If he eats his candy, could you keep Butters from getting AIDS?\n",
      "Soo, Butters.\n",
      "Hey, he said he would.\n",
      "AIDS?\n",
      "Butters.\n",
      "Noo! No! AIDS is killing our babies!\n",
      "God-damned stupid stupid movie.\n",
      "No, underwear!\n",
      "What?\n",
      "All right, we need to get Butters' parents to come down to our house. Don't have any more weapons than you.\n",
      "You're God-damned stupid stupid.\n",
      "Uh, god-damned stupid.\n",
      "Hey, we can use protection too.\n",
      "Butters, underwear?\n",
      "What's that supposed to mean?\n",
      "And we don't have any weapons.\n",
      "You're making it all up. Now, I understand why Butters would want to join the faction.\n",
      "He has a reason for being here. He has something to do with the cure for AIDS.\n",
      "Butters, your dad is a murderer. He's in the hospital right now. I need you to get him out of here.\n",
      "Get him out of here, Butters! I'll use the phone.  And I'm gonna get Butters to come talk to me first.\n",
      "No, Butters, you have to come right now. I hate Butters.\n",
      "Go ahead, TheWendigo.  TheWendigo wants... any help getting Butters to come talk to her.\n",
      "Go ahead, theWendigo, and leave.\n",
      "Oh, messed up...\n",
      "Got it.\n",
      "Hunh.  What the hell is a popcorn?\n",
      "Okay, kids, let's check out the menu.  Here's the deal, you guys. We recommend going with a hot, Japanese flavor.\n",
      "That's right. You can get the hot taste of ketchup, or you can get the hot taste of can chili.\n",
      "Hot...\n",
      "Oh, crap!\n",
      "I know what we're doing. This isn't news to you, guys.\n",
      "Oh, God, I don't even care about the chili. It's all crap and people should be able to buy it, right?\n",
      "You guys, come look here.  There's hot sauce over the... uh... sauce.\n",
      "Look, I know how you feel, Craig.\n",
      "There you see, guys, it's exactly what we needed. A new name for our game.\n",
      "You've got to be firm with us in this. Craig's mom is from Jersey.\n",
      "Ugh.\n",
      "We spent all night trying to get rid of him, you guys.\n",
      "We're trying to get rid of Butters, you guys. Here's a cool surprise for you.\n",
      "Oh, hey guys. How's it going?\n",
      "A deal!\n",
      "A new name?\n",
      "No way. Everybody knows the deal is on Chili\n"
=======
      "Dude, I don't think that this is very sturdy.\n",
      "Okay, it's over here.\n",
      "Get ready guys. I'm going to kick your ass!\n",
      "Officer Barbrady!\n",
      "No!\n",
      "Get ready guys. I'm gonna kick your ass!\n",
      "Camp! Get ready!\n",
      "Oh my God!\n",
      "Jesus, I'm seeing it!\n",
      "It's a Cyborg Bill.\n",
      "This is what we do in the military! They'll find out when we get our leave.\n",
      "We have to show the world that there's still hope for all of us.\n",
      "Look out! Here comes the great dragon of thunder!\n",
      "Do you hear that?\n",
      "Totally, dude! You broke him!\n",
      "Oh my God! You broke his heart!\n",
      "One life, one shattered dream.\n",
      "Run away, gay!\n",
      "Oh goodbye, cousin!\n",
      "Here, run!\n",
      "Oh goodbye, Stan!\n",
      "Here, run!\n",
      "Here, run!\n",
      "Stan, don't say that!\n",
      "He's away.\n",
      "Yeah, it's been a while. Come on, gay.\n",
      "Okay, it's 3:30.\n",
      "Yeah, gay.\n",
      "Come on, run!\n",
      "Yeah, gay.\n",
      "Yeah, we made it.\n",
      "Oh, dude, check it out.  It has a picture of Stan holding a baseball.\n",
      "Aw, dude, what the hell is going on?\n",
      "What is this all about, Cartman?\n",
      "A picture of Stan?\n",
      "No, it's Cartman. A picture of Stan?\n",
      "That's terrible!\n",
      "What the hell are you doing spreading this crap?\n",
      "You're taking pictures of my face?\n",
      "Why do you have computers?\n",
      "You'll kill us if we try to leave - Stan\n",
      "Stan?\n",
      "Stan??\n",
      "I'm going to find a cure for Cartman's fainting disorder.\n",
      "Cartman, what is going on!\n",
      "What's it doing?\n",
      "I'm asthmat, sir. My field of view is getting worse. I need you to come and see me.\n",
      "Hello, Cartman.\n",
      "Please come.\n",
      "I'm sorry, Cartman. My field of view is getting worse. I need you to come with me.\n",
      "Come on, come with me.\n",
      "YES, I know that! Please!\n",
      "Come on, we have to get to the hospital!\n",
      "Yes!\n",
      "Yes!\n",
      "I can see clearly and without you it will be over!\n",
      "You see?!\n",
      "No!\n",
      "I can't do that!\n",
      "You know perfectly well what I'm talking about!\n",
      "Going back to old times, Cartman! I hate you!\n",
      "Man, I can't believe it.\n",
      "Wow!\n",
      "Do you really think that this is cool?\n",
      "It's cool because it shows them wrong. It can't be cooler than ours.\n",
      "We didn't believe you did it, fatass!\n",
      "Dude, you'd better watch the video because I'm going to show them the hard way!\n",
      "No!\n",
      "Why?\n",
      "Aaaah!\n",
      "You're gonna freeze over dude, I know that!\n",
      "Stop it, Cartman!\n",
      "That thing is pretty cool, too.\n",
      "Yeah, it looks like a Earth Day present.\n",
      "Dude, it just seems so lame.\n",
      "Let's just get it away from your parents.\n",
      "Who are those kids?\n",
      "Awesome.\n",
      "But they're gonna be so bored on it, Cartman!\n",
      "Not if you...\n",
      "Mister...\n",
      "What's going on?\n",
      "...Homeland?\n",
      "Dude, what's going on?\n",
      "Wait! We don't have time for that!\n",
      "Dude, I think we're almost there.\n",
      "That's what happens when Homeland Security starts teaching kids the ropes and the stunts they're doing on TV? You know, we're starting to find out what's going on inside them.\n",
      "Don't worry, guys. We're getting good at this.\n",
      "Hear that? It sounds like water.\n",
      "You've gotta know about stunts and stunts doesn't it?\n",
      "See, we've learned something today. You're probably used to being security guards in a big, fancy place. Now you might have to learn to operate a check-cashing machine.\n",
      "See, we've learned that a lot of people are making stupid mistakes, and getting screwed up by them.\n",
      "Here's an idea.\n",
      "If we do a bunch of stunts, will you give us the money?\n",
      "Okay, here's the ending.\n",
      "Okay, hang on guys. You can call Scott anytime.\n",
      "Look, we're just trying to figure out what to do.\n",
      "Dude, totally. How much do we get you to part ways?\n",
      "Dude, he's a pretty special kid.\n",
      "I'mified!!\n",
      "I got the Ethernopian tube.\n",
      "I got it from somebody in China.\n",
      "How do we get graphene to China?\n",
      "Yeah, this\n"
>>>>>>> c330fd15d4c018e24de030150ee8acdf15f3eccf
     ]
    }
   ],
   "source": [
<<<<<<< HEAD
    "gpt2.generate(sess, run_name='cartman1')"
=======
    "gpt2.generate(sess, run_name='kyle1')"
>>>>>>> c330fd15d4c018e24de030150ee8acdf15f3eccf
   ]
  },
  {
   "cell_type": "code",
   "execution_count": 4,
   "metadata": {},
   "outputs": [
    {
     "data": {
      "text/plain": [
       "'/tf/galvanize/capstones/Capstone_3'"
      ]
     },
     "execution_count": 4,
     "metadata": {},
     "output_type": "execute_result"
    }
   ],
   "source": [
    "pwd"
   ]
  },
  {
   "cell_type": "code",
   "execution_count": 5,
   "metadata": {},
   "outputs": [
    {
     "name": "stdout",
     "output_type": "stream",
     "text": [
      "BPE_token.py    \u001b[0m\u001b[01;34m__pycache__\u001b[0m/     \u001b[01;34mcheckpoint\u001b[0m/          gpt2.py  stan.py\n",
      "README.md       cartman.py       \u001b[01;31mcheckpoint_run1.tar\u001b[0m  kyle.py  \u001b[01;34mtraining_data\u001b[0m/\n",
      "Untitled.ipynb  cartman_gpt2.py  \u001b[01;34mdata\u001b[0m/                lstm.py\n"
     ]
    }
   ],
   "source": [
    "ls"
   ]
  },
  {
   "cell_type": "code",
   "execution_count": null,
   "metadata": {},
   "outputs": [],
   "source": []
  }
 ],
 "metadata": {
  "kernelspec": {
   "display_name": "Python 3",
   "language": "python",
   "name": "python3"
  },
  "language_info": {
   "codemirror_mode": {
    "name": "ipython",
    "version": 3
   },
   "file_extension": ".py",
   "mimetype": "text/x-python",
   "name": "python",
   "nbconvert_exporter": "python",
   "pygments_lexer": "ipython3",
   "version": "3.6.8"
  }
 },
 "nbformat": 4,
 "nbformat_minor": 4
}
