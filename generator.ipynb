{
 "cells": [
  {
   "cell_type": "code",
   "execution_count": 1,
   "metadata": {},
   "outputs": [
    {
     "name": "stdout",
     "output_type": "stream",
     "text": [
      "WARNING:tensorflow:\n",
      "The TensorFlow contrib module will not be included in TensorFlow 2.0.\n",
      "For more information, please see:\n",
      "  * https://github.com/tensorflow/community/blob/master/rfcs/20180907-contrib-sunset.md\n",
      "  * https://github.com/tensorflow/addons\n",
      "  * https://github.com/tensorflow/io (for I/O related ops)\n",
      "If you depend on functionality not listed there, please file an issue.\n",
      "\n"
     ]
    }
   ],
   "source": [
    "import gpt_2_simple as gpt2"
   ]
  },
  {
   "cell_type": "code",
   "execution_count": 7,
   "metadata": {},
   "outputs": [
    {
     "ename": "ModuleNotFoundError",
     "evalue": "No module named 'pandas'",
     "output_type": "error",
     "traceback": [
      "\u001b[0;31m---------------------------------------------------------------------------\u001b[0m",
      "\u001b[0;31mModuleNotFoundError\u001b[0m                       Traceback (most recent call last)",
      "\u001b[0;32m<ipython-input-7-6c7256b9f622>\u001b[0m in \u001b[0;36m<module>\u001b[0;34m\u001b[0m\n\u001b[1;32m      1\u001b[0m \u001b[0;32mfrom\u001b[0m \u001b[0mdatetime\u001b[0m \u001b[0;32mimport\u001b[0m \u001b[0mdatetime\u001b[0m\u001b[0;34m\u001b[0m\u001b[0;34m\u001b[0m\u001b[0m\n\u001b[0;32m----> 2\u001b[0;31m \u001b[0;32mimport\u001b[0m \u001b[0mpandas\u001b[0m \u001b[0;32mas\u001b[0m \u001b[0mpd\u001b[0m\u001b[0;34m\u001b[0m\u001b[0;34m\u001b[0m\u001b[0m\n\u001b[0m",
      "\u001b[0;31mModuleNotFoundError\u001b[0m: No module named 'pandas'"
     ]
    }
   ],
   "source": [
    "from datetime import datetime"
   ]
  },
  {
   "cell_type": "code",
   "execution_count": 3,
   "metadata": {},
   "outputs": [
    {
     "name": "stdout",
     "output_type": "stream",
     "text": [
      "Loading checkpoint checkpoint/cartman1/model-1000\n",
      "INFO:tensorflow:Restoring parameters from checkpoint/cartman1/model-1000\n"
     ]
    }
   ],
   "source": [
    "sess = gpt2.start_tf_sess()\n",
    "gpt2.load_gpt2(sess, run_name='cartman1')"
   ]
  },
  {
   "cell_type": "code",
   "execution_count": 3,
   "metadata": {},
   "outputs": [
    {
     "name": "stdout",
     "output_type": "stream",
     "text": [
      "Loading checkpoint checkpoint/stan1/model-1000\n",
      "INFO:tensorflow:Restoring parameters from checkpoint/stan1/model-1000\n"
     ]
    }
   ],
   "source": [
    "sess = gpt2.start_tf_sess()\n",
    "gpt2.load_gpt2(sess, run_name='stan1')"
   ]
  },
  {
   "cell_type": "code",
   "execution_count": 3,
   "metadata": {},
   "outputs": [
    {
     "name": "stdout",
     "output_type": "stream",
     "text": [
      "Loading checkpoint checkpoint/kyle1/model-1000\n",
      "INFO:tensorflow:Restoring parameters from checkpoint/kyle1/model-1000\n"
     ]
    }
   ],
   "source": [
    "sess = gpt2.start_tf_sess()\n",
    "gpt2.load_gpt2(sess, run_name='kyle1')"
   ]
  },
  {
   "cell_type": "code",
   "execution_count": 4,
   "metadata": {},
   "outputs": [
    {
     "name": "stdout",
     "output_type": "stream",
     "text": [
      "We live in a time warp. Ahem, ahem ahem.\n",
      "Agh! Look what they did to our friend, Kenny.\n",
      "Cartman!\n",
      "Why would they send us over to Kenny's birthday party tomorrow?\n",
      "Yeah. They put us in a military recruiting station. Tell them we have a talent show you can't find or something.\n",
      "You're lying to us, Cartman! We had to train there together!\n",
      "Well, because you're lying to us! If we thought we could get accepted to any school, us, we would go crazy!\n",
      "We didn't have to study! We could just go to the planetarium. And don't forget: we got places to stay and to go to parties.\n",
      "Go on by, little brother.\n",
      "All right, all right, we can do is smile and thank you for everything you've made us do for us.\n",
      "God job, dude!\n",
      "Je Suis Cartemars! I was supposed to go to the meteor shower with you, but I was grounded!\n",
      "What was I to do?\n",
      "Come on, dude, meteor shower is about to pass!\n",
      "You got back in time for a meteor shower, you turd!\n",
      "Did you get back in time for a meteor shower?\n",
      "Oh, okay.\n",
      "You got back in time for a meteor shower, you turd!\n",
      "How about a slumber party for little boys?\n",
      "Wow, what did they do with all the meteors?\n",
      "Dude, that is so wrong.\n",
      "Where's your ball?\n",
      "Come on, Ike!\n",
      "You know what you people do stupidly, Cartman?\n",
      "A stupidly stupidly stupidly stupidly stupidly stupidly stupid.\n",
      "Oh, God-damnit!\n",
      "We're gonna have a slumber party for little boys.\n",
      "Dude, that is so wrong.\n",
      "How about a slumber party for little boys?\n",
      "You suck, Cartman!\n",
      "Hey, look over there, Cartman! You're gonna suck ass.\n",
      "Aww, come on!\n",
      "Hey, look.\n",
      "Dude, that is so wrong.\n",
      "Yeah, it's perfect!\n",
      "We have to have a slumber party.\n",
      "Hey, is that your cat?\n",
      "What are you doing, Cartman?\n",
      "Come on, Ike, we have to have a slumber party!\n",
      "Dammit! Come on, Ike, we have to have a slumber party!\n",
      "Okay, fine, Ike. Let's just go ahead and play.\n",
      "No, that's your cat.\n",
      "Dude, that's a really stupid name!\n",
      "It's a dead body.\n",
      "Go on by, Ike.\n",
      "Come on, Ike, we're gonna die!\n",
      "Yeah. I think that name just sounded too good to be true.\n",
      "Yeah, we have to find the real Tom Cruise.\n",
      "Yeah, come on!\n",
      "We're all gonna jump on the fake Cruise bandwagon, Cruiseists!\n",
      "Let's do this! This is what we think is so cool about Cruise stars!\n",
      "Aww, come on, you guys! We're not jumping on any kind of fake bandwagon, we're just putting our imaginations into running sequences that aren't their fault!\n",
      "No, we're just putting our imaginations and their hearts into running jokes.\n",
      "What's \"woo\" all mean?\n",
      "What the hell are we talking about?!\n",
      "\"shit\"\n",
      "\"shit\"\n",
      "What the hell are we talking about?!\n",
      "Okay, so what's the first syllable?\n",
      "Okay, so the final syllable.\n",
      "shit\n",
      "Okay, so the final syllable.\n",
      "shit\n",
      "That's a retarded idea, Cartman!\n",
      "What the hell are you talking about?!\n",
      "What's the last syllable?\n",
      "shit\n",
      "Okay, so the last syllable.\n",
      "shit\n",
      "You mean it!\n",
      "Yeah, it's funny!\n",
      "I'm going to Somalia!\n",
      "Oh, God, I'm going to Somalia!\n",
      "All right, Somalia! You better have a good explanation for why you should go!\n",
      "Oh, God, I'm going to Somalia!\n",
      "All right, you must be kidding me!\n",
      "What the hell are you talking about?!\n",
      "Eric Cartman?\n",
      "Cartman, I need to talk to the people inside. I have to tell them what you're up to.\n",
      "Look, we have to talk to the people inside.\n",
      "All right, let's just say sorry and come clean.\n",
      "We didn't do anything to you, fat boy!\n",
      "Dude, I'm sorry. I didn't mean to-\n",
      "What?\n",
      "What's going on?!\n",
      "No, it's not really hanging out with you, Cartman. It's just hanging out with you.\n",
      "All right, just finish the quest in Whispers in the Stone. Then go to the South-West and talk to the men there.\n",
      "All right, we have to go\n"
     ]
    }
   ],
   "source": [
    "gpt2.generate(sess, run_name='kyle1')"
   ]
  },
  {
   "cell_type": "code",
   "execution_count": 4,
   "metadata": {},
   "outputs": [],
   "source": [
    "gen_file = 'cartman_gentext_{:%Y%m%d_%H%M%S}.txt'.format(datetime.utcnow())\n",
    "\n",
    "gpt2.generate_to_file(sess,\n",
    "                      destination_path=gen_file,\n",
    "                      length=500,\n",
    "                      temperature=0.7,\n",
    "                      nsamples=100,\n",
    "                      batch_size=20\n",
    "                      )"
   ]
  },
  {
   "cell_type": "code",
   "execution_count": 13,
   "metadata": {},
   "outputs": [
    {
     "data": {
      "text/plain": [
       "<function TextIOWrapper.close()>"
      ]
     },
     "execution_count": 13,
     "metadata": {},
     "output_type": "execute_result"
    }
   ],
   "source": [
    "f = open(\"cartman.txt\", \"w\")\n",
    "f.write(gen_file)\n",
    "f.close"
   ]
  },
  {
   "cell_type": "code",
   "execution_count": 14,
   "metadata": {},
   "outputs": [
    {
     "data": {
      "text/plain": [
       "'cartman_gentext_20210106_190622.txt'"
      ]
     },
     "execution_count": 14,
     "metadata": {},
     "output_type": "execute_result"
    }
   ],
   "source": [
    "gen_file"
   ]
  },
  {
   "cell_type": "code",
   "execution_count": 5,
   "metadata": {},
   "outputs": [
    {
     "data": {
      "text/plain": [
       "'/tf/galvanize/capstones/Capstone_3'"
      ]
     },
     "execution_count": 5,
     "metadata": {},
     "output_type": "execute_result"
    }
   ],
   "source": [
    "pwd"
   ]
  },
  {
   "cell_type": "code",
   "execution_count": 6,
   "metadata": {},
   "outputs": [
    {
     "ename": "NameError",
     "evalue": "name 'pd' is not defined",
     "output_type": "error",
     "traceback": [
      "\u001b[0;31m---------------------------------------------------------------------------\u001b[0m",
      "\u001b[0;31mNameError\u001b[0m                                 Traceback (most recent call last)",
      "\u001b[0;32m<ipython-input-6-3f62d1c86e4a>\u001b[0m in \u001b[0;36m<module>\u001b[0;34m\u001b[0m\n\u001b[0;32m----> 1\u001b[0;31m \u001b[0mcartman_gen\u001b[0m \u001b[0;34m=\u001b[0m \u001b[0mpd\u001b[0m\u001b[0;34m.\u001b[0m\u001b[0mread_csv\u001b[0m\u001b[0;34m(\u001b[0m\u001b[0;34m'cartman.txt'\u001b[0m\u001b[0;34m)\u001b[0m\u001b[0;34m\u001b[0m\u001b[0;34m\u001b[0m\u001b[0m\n\u001b[0m",
      "\u001b[0;31mNameError\u001b[0m: name 'pd' is not defined"
     ]
    }
   ],
   "source": [
    "cartman_gen = pd.read_csv('cartman.txt')"
   ]
  },
  {
   "cell_type": "code",
   "execution_count": null,
   "metadata": {},
   "outputs": [],
   "source": []
  }
 ],
 "metadata": {
  "kernelspec": {
   "display_name": "Python 3",
   "language": "python",
   "name": "python3"
  },
  "language_info": {
   "codemirror_mode": {
    "name": "ipython",
    "version": 3
   },
   "file_extension": ".py",
   "mimetype": "text/x-python",
   "name": "python",
   "nbconvert_exporter": "python",
   "pygments_lexer": "ipython3",
   "version": "3.6.8"
  }
 },
 "nbformat": 4,
 "nbformat_minor": 4
}
